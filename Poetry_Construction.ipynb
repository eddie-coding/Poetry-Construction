{
  "nbformat": 4,
  "nbformat_minor": 0,
  "metadata": {
    "accelerator": "GPU",
    "colab": {
      "name": "Poetry_Construction.ipynb",
      "provenance": [],
      "collapsed_sections": [],
      "toc_visible": true,
      "include_colab_link": true
    },
    "kernelspec": {
      "name": "python3",
      "display_name": "Python 3"
    }
  },
  "cells": [
    {
      "cell_type": "markdown",
      "metadata": {
        "id": "view-in-github",
        "colab_type": "text"
      },
      "source": [
        "<a href=\"https://colab.research.google.com/github/eddie-coding/Poetry-Construction/blob/master/Poetry_Construction.ipynb\" target=\"_parent\"><img src=\"https://colab.research.google.com/assets/colab-badge.svg\" alt=\"Open In Colab\"/></a>"
      ]
    },
    {
      "cell_type": "code",
      "metadata": {
        "id": "zX4Kg8DUTKWO",
        "colab_type": "code",
        "colab": {}
      },
      "source": [
        "#@title Licensed under the Apache License, Version 2.0 (the \"License\");\n",
        "# you may not use this file except in compliance with the License.\n",
        "# You may obtain a copy of the License at\n",
        "#\n",
        "# https://www.apache.org/licenses/LICENSE-2.0\n",
        "#\n",
        "# Unless required by applicable law or agreed to in writing, software\n",
        "# distributed under the License is distributed on an \"AS IS\" BASIS,\n",
        "# WITHOUT WARRANTIES OR CONDITIONS OF ANY KIND, either express or implied.\n",
        "# See the License for the specific language governing permissions and\n",
        "# limitations under the License."
      ],
      "execution_count": 0,
      "outputs": []
    },
    {
      "cell_type": "code",
      "metadata": {
        "colab_type": "code",
        "id": "BOwsuGQQY9OL",
        "colab": {}
      },
      "source": [
        "from tensorflow.keras.preprocessing.sequence import pad_sequences\n",
        "from tensorflow.keras.layers import Embedding, LSTM, Dense, Dropout, Bidirectional\n",
        "from tensorflow.keras.preprocessing.text import Tokenizer\n",
        "from tensorflow.keras.models import Sequential\n",
        "from tensorflow.keras.optimizers import Adam\n",
        "from tensorflow.keras import regularizers\n",
        "import tensorflow.keras.utils as ku \n",
        "import numpy as np "
      ],
      "execution_count": 0,
      "outputs": []
    },
    {
      "cell_type": "code",
      "metadata": {
        "colab_type": "code",
        "id": "PRnDnCW-Z7qv",
        "outputId": "e939df19-2ee6-448e-abf4-1685d501e588",
        "colab": {
          "base_uri": "https://localhost:8080/",
          "height": 204
        }
      },
      "source": [
        "tokenizer = Tokenizer()\n",
        "!wget --no-check-certificate \\\n",
        "    https://storage.googleapis.com/laurencemoroney-blog.appspot.com/sonnets.txt \\\n",
        "    -O /tmp/sonnets.txt\n",
        "data = open('/tmp/sonnets.txt').read()\n",
        "\n",
        "corpus = data.lower().split(\"\\n\")\n",
        "\n",
        "\n",
        "tokenizer.fit_on_texts(corpus)\n",
        "total_words = len(tokenizer.word_index) + 1\n",
        "\n",
        "# create input sequences using list of tokens\n",
        "input_sequences = []\n",
        "for line in corpus:\n",
        "\ttoken_list = tokenizer.texts_to_sequences([line])[0]\n",
        "\tfor i in range(1, len(token_list)):\n",
        "\t\tn_gram_sequence = token_list[:i+1]\n",
        "\t\tinput_sequences.append(n_gram_sequence)\n",
        "\n",
        "\n",
        "# pad sequences \n",
        "max_sequence_len = max([len(x) for x in input_sequences])\n",
        "input_sequences = np.array(pad_sequences(input_sequences, maxlen=max_sequence_len, padding='pre'))\n",
        "\n",
        "# create predictors and label\n",
        "predictors, label = input_sequences[:,:-1],input_sequences[:,-1]\n",
        "\n",
        "label = ku.to_categorical(label, num_classes=total_words)"
      ],
      "execution_count": 0,
      "outputs": [
        {
          "output_type": "stream",
          "text": [
            "--2020-04-07 18:19:24--  https://storage.googleapis.com/laurencemoroney-blog.appspot.com/sonnets.txt\n",
            "Resolving storage.googleapis.com (storage.googleapis.com)... 173.194.79.128, 2a00:1450:4013:c00::80\n",
            "Connecting to storage.googleapis.com (storage.googleapis.com)|173.194.79.128|:443... connected.\n",
            "HTTP request sent, awaiting response... 200 OK\n",
            "Length: 93578 (91K) [text/plain]\n",
            "Saving to: ‘/tmp/sonnets.txt’\n",
            "\n",
            "\r/tmp/sonnets.txt      0%[                    ]       0  --.-KB/s               \r/tmp/sonnets.txt    100%[===================>]  91.38K  --.-KB/s    in 0.001s  \n",
            "\n",
            "2020-04-07 18:19:25 (162 MB/s) - ‘/tmp/sonnets.txt’ saved [93578/93578]\n",
            "\n"
          ],
          "name": "stdout"
        }
      ]
    },
    {
      "cell_type": "code",
      "metadata": {
        "colab_type": "code",
        "id": "w9vH8Y59ajYL",
        "outputId": "e07a4ddd-ea2d-4466-9e77-7d6bef47a9c4",
        "colab": {
          "base_uri": "https://localhost:8080/",
          "height": 374
        }
      },
      "source": [
        "model = Sequential()\n",
        "model.add(Embedding(total_words, 100, input_length=max_sequence_len-1))\n",
        "model.add(Bidirectional(LSTM(150, return_sequences = True)))\n",
        "model.add(Dropout(0.2))\n",
        "model.add(LSTM(100))\n",
        "model.add(Dense(total_words/2, activation='relu', kernel_regularizer=regularizers.l2(0.01)))\n",
        "model.add(Dense(total_words, activation='softmax'))\n",
        "model.compile(loss='categorical_crossentropy', optimizer='adam', metrics=['accuracy'])\n",
        "print(model.summary())\n"
      ],
      "execution_count": 0,
      "outputs": [
        {
          "output_type": "stream",
          "text": [
            "Model: \"sequential\"\n",
            "_________________________________________________________________\n",
            "Layer (type)                 Output Shape              Param #   \n",
            "=================================================================\n",
            "embedding (Embedding)        (None, 10, 100)           321100    \n",
            "_________________________________________________________________\n",
            "bidirectional (Bidirectional (None, 10, 300)           301200    \n",
            "_________________________________________________________________\n",
            "dropout (Dropout)            (None, 10, 300)           0         \n",
            "_________________________________________________________________\n",
            "lstm_1 (LSTM)                (None, 100)               160400    \n",
            "_________________________________________________________________\n",
            "dense (Dense)                (None, 1605)              162105    \n",
            "_________________________________________________________________\n",
            "dense_1 (Dense)              (None, 3211)              5156866   \n",
            "=================================================================\n",
            "Total params: 6,101,671\n",
            "Trainable params: 6,101,671\n",
            "Non-trainable params: 0\n",
            "_________________________________________________________________\n",
            "None\n"
          ],
          "name": "stdout"
        }
      ]
    },
    {
      "cell_type": "code",
      "metadata": {
        "colab_type": "code",
        "id": "AIg2f1HBxqof",
        "outputId": "95fa6835-d02d-4d5b-d038-963738f5a08d",
        "colab": {
          "base_uri": "https://localhost:8080/",
          "height": 1000
        }
      },
      "source": [
        " history = model.fit(predictors, label, epochs=100, verbose=1)"
      ],
      "execution_count": 0,
      "outputs": [
        {
          "output_type": "stream",
          "text": [
            "Epoch 1/100\n",
            "484/484 [==============================] - 6s 12ms/step - loss: 6.9061 - accuracy: 0.0213\n",
            "Epoch 2/100\n",
            "484/484 [==============================] - 5s 11ms/step - loss: 6.5057 - accuracy: 0.0240\n",
            "Epoch 3/100\n",
            "484/484 [==============================] - 6s 11ms/step - loss: 6.3980 - accuracy: 0.0268\n",
            "Epoch 4/100\n",
            "484/484 [==============================] - 5s 11ms/step - loss: 6.2739 - accuracy: 0.0292\n",
            "Epoch 5/100\n",
            "484/484 [==============================] - 6s 11ms/step - loss: 6.1812 - accuracy: 0.0349\n",
            "Epoch 6/100\n",
            "484/484 [==============================] - 6s 11ms/step - loss: 6.0957 - accuracy: 0.0387\n",
            "Epoch 7/100\n",
            "484/484 [==============================] - 6s 11ms/step - loss: 6.0192 - accuracy: 0.0419\n",
            "Epoch 8/100\n",
            "484/484 [==============================] - 6s 11ms/step - loss: 5.9418 - accuracy: 0.0453\n",
            "Epoch 9/100\n",
            "484/484 [==============================] - 6s 11ms/step - loss: 5.8458 - accuracy: 0.0518\n",
            "Epoch 10/100\n",
            "484/484 [==============================] - 6s 11ms/step - loss: 5.7419 - accuracy: 0.0590\n",
            "Epoch 11/100\n",
            "484/484 [==============================] - 6s 12ms/step - loss: 5.6409 - accuracy: 0.0636\n",
            "Epoch 12/100\n",
            "484/484 [==============================] - 5s 11ms/step - loss: 5.5437 - accuracy: 0.0695\n",
            "Epoch 13/100\n",
            "484/484 [==============================] - 5s 11ms/step - loss: 5.4454 - accuracy: 0.0757\n",
            "Epoch 14/100\n",
            "484/484 [==============================] - 6s 11ms/step - loss: 5.3457 - accuracy: 0.0815\n",
            "Epoch 15/100\n",
            "484/484 [==============================] - 5s 11ms/step - loss: 5.2517 - accuracy: 0.0878\n",
            "Epoch 16/100\n",
            "484/484 [==============================] - 5s 11ms/step - loss: 5.1556 - accuracy: 0.0955\n",
            "Epoch 17/100\n",
            "484/484 [==============================] - 6s 11ms/step - loss: 5.0541 - accuracy: 0.1043\n",
            "Epoch 18/100\n",
            "484/484 [==============================] - 6s 11ms/step - loss: 4.9541 - accuracy: 0.1148\n",
            "Epoch 19/100\n",
            "484/484 [==============================] - 6s 11ms/step - loss: 4.8583 - accuracy: 0.1201\n",
            "Epoch 20/100\n",
            "484/484 [==============================] - 6s 11ms/step - loss: 4.7610 - accuracy: 0.1279\n",
            "Epoch 21/100\n",
            "484/484 [==============================] - 6s 12ms/step - loss: 4.6610 - accuracy: 0.1416\n",
            "Epoch 22/100\n",
            "484/484 [==============================] - 6s 12ms/step - loss: 4.5647 - accuracy: 0.1490\n",
            "Epoch 23/100\n",
            "484/484 [==============================] - 6s 11ms/step - loss: 4.4665 - accuracy: 0.1597\n",
            "Epoch 24/100\n",
            "484/484 [==============================] - 5s 11ms/step - loss: 4.3684 - accuracy: 0.1716\n",
            "Epoch 25/100\n",
            "484/484 [==============================] - 6s 11ms/step - loss: 4.2754 - accuracy: 0.1807\n",
            "Epoch 26/100\n",
            "484/484 [==============================] - 5s 11ms/step - loss: 4.1670 - accuracy: 0.1959\n",
            "Epoch 27/100\n",
            "484/484 [==============================] - 6s 11ms/step - loss: 4.0796 - accuracy: 0.2044\n",
            "Epoch 28/100\n",
            "484/484 [==============================] - 5s 11ms/step - loss: 3.9825 - accuracy: 0.2200\n",
            "Epoch 29/100\n",
            "484/484 [==============================] - 6s 11ms/step - loss: 3.8880 - accuracy: 0.2306\n",
            "Epoch 30/100\n",
            "484/484 [==============================] - 5s 11ms/step - loss: 3.7772 - accuracy: 0.2513\n",
            "Epoch 31/100\n",
            "484/484 [==============================] - 6s 11ms/step - loss: 3.6908 - accuracy: 0.2674\n",
            "Epoch 32/100\n",
            "484/484 [==============================] - 6s 11ms/step - loss: 3.5998 - accuracy: 0.2853\n",
            "Epoch 33/100\n",
            "484/484 [==============================] - 6s 11ms/step - loss: 3.5117 - accuracy: 0.3023\n",
            "Epoch 34/100\n",
            "484/484 [==============================] - 6s 11ms/step - loss: 3.4298 - accuracy: 0.3220\n",
            "Epoch 35/100\n",
            "484/484 [==============================] - 5s 11ms/step - loss: 3.3392 - accuracy: 0.3460\n",
            "Epoch 36/100\n",
            "484/484 [==============================] - 6s 11ms/step - loss: 3.2523 - accuracy: 0.3627\n",
            "Epoch 37/100\n",
            "484/484 [==============================] - 5s 11ms/step - loss: 3.1791 - accuracy: 0.3804\n",
            "Epoch 38/100\n",
            "484/484 [==============================] - 5s 11ms/step - loss: 3.1010 - accuracy: 0.3993\n",
            "Epoch 39/100\n",
            "484/484 [==============================] - 5s 11ms/step - loss: 3.0218 - accuracy: 0.4126\n",
            "Epoch 40/100\n",
            "484/484 [==============================] - 5s 11ms/step - loss: 2.9648 - accuracy: 0.4248\n",
            "Epoch 41/100\n",
            "484/484 [==============================] - 5s 11ms/step - loss: 2.8854 - accuracy: 0.4457\n",
            "Epoch 42/100\n",
            "484/484 [==============================] - 5s 11ms/step - loss: 2.8143 - accuracy: 0.4582\n",
            "Epoch 43/100\n",
            "484/484 [==============================] - 6s 11ms/step - loss: 2.7543 - accuracy: 0.4735\n",
            "Epoch 44/100\n",
            "484/484 [==============================] - 6s 11ms/step - loss: 2.7011 - accuracy: 0.4860\n",
            "Epoch 45/100\n",
            "484/484 [==============================] - 5s 11ms/step - loss: 2.6347 - accuracy: 0.5002\n",
            "Epoch 46/100\n",
            "484/484 [==============================] - 6s 11ms/step - loss: 2.5795 - accuracy: 0.5109\n",
            "Epoch 47/100\n",
            "484/484 [==============================] - 6s 12ms/step - loss: 2.5387 - accuracy: 0.5199\n",
            "Epoch 48/100\n",
            "484/484 [==============================] - 5s 11ms/step - loss: 2.4627 - accuracy: 0.5369\n",
            "Epoch 49/100\n",
            "484/484 [==============================] - 6s 11ms/step - loss: 2.4210 - accuracy: 0.5463\n",
            "Epoch 50/100\n",
            "484/484 [==============================] - 6s 11ms/step - loss: 2.3846 - accuracy: 0.5592\n",
            "Epoch 51/100\n",
            "484/484 [==============================] - 5s 11ms/step - loss: 2.3379 - accuracy: 0.5642\n",
            "Epoch 52/100\n",
            "484/484 [==============================] - 6s 11ms/step - loss: 2.2899 - accuracy: 0.5743\n",
            "Epoch 53/100\n",
            "484/484 [==============================] - 6s 11ms/step - loss: 2.2332 - accuracy: 0.5878\n",
            "Epoch 54/100\n",
            "484/484 [==============================] - 6s 11ms/step - loss: 2.1927 - accuracy: 0.5975\n",
            "Epoch 55/100\n",
            "484/484 [==============================] - 6s 11ms/step - loss: 2.1492 - accuracy: 0.6059\n",
            "Epoch 56/100\n",
            "484/484 [==============================] - 5s 11ms/step - loss: 2.1170 - accuracy: 0.6116\n",
            "Epoch 57/100\n",
            "484/484 [==============================] - 6s 11ms/step - loss: 2.0753 - accuracy: 0.6206\n",
            "Epoch 58/100\n",
            "484/484 [==============================] - 6s 12ms/step - loss: 2.0289 - accuracy: 0.6308\n",
            "Epoch 59/100\n",
            "484/484 [==============================] - 5s 11ms/step - loss: 1.9993 - accuracy: 0.6369\n",
            "Epoch 60/100\n",
            "484/484 [==============================] - 5s 11ms/step - loss: 1.9698 - accuracy: 0.6418\n",
            "Epoch 61/100\n",
            "484/484 [==============================] - 5s 11ms/step - loss: 1.9315 - accuracy: 0.6553\n",
            "Epoch 62/100\n",
            "484/484 [==============================] - 5s 11ms/step - loss: 1.9020 - accuracy: 0.6586\n",
            "Epoch 63/100\n",
            "484/484 [==============================] - 6s 11ms/step - loss: 1.8809 - accuracy: 0.6636\n",
            "Epoch 64/100\n",
            "484/484 [==============================] - 6s 12ms/step - loss: 1.8382 - accuracy: 0.6734\n",
            "Epoch 65/100\n",
            "484/484 [==============================] - 6s 11ms/step - loss: 1.8079 - accuracy: 0.6783\n",
            "Epoch 66/100\n",
            "484/484 [==============================] - 6s 12ms/step - loss: 1.7830 - accuracy: 0.6835\n",
            "Epoch 67/100\n",
            "484/484 [==============================] - 5s 11ms/step - loss: 1.7514 - accuracy: 0.6891\n",
            "Epoch 68/100\n",
            "484/484 [==============================] - 6s 11ms/step - loss: 1.7171 - accuracy: 0.6993\n",
            "Epoch 69/100\n",
            "484/484 [==============================] - 6s 11ms/step - loss: 1.7027 - accuracy: 0.6980\n",
            "Epoch 70/100\n",
            "484/484 [==============================] - 6s 11ms/step - loss: 1.6791 - accuracy: 0.7030\n",
            "Epoch 71/100\n",
            "484/484 [==============================] - 6s 11ms/step - loss: 1.6521 - accuracy: 0.7078\n",
            "Epoch 72/100\n",
            "484/484 [==============================] - 6s 11ms/step - loss: 1.6330 - accuracy: 0.7112\n",
            "Epoch 73/100\n",
            "484/484 [==============================] - 5s 11ms/step - loss: 1.6071 - accuracy: 0.7176\n",
            "Epoch 74/100\n",
            "484/484 [==============================] - 6s 12ms/step - loss: 1.5837 - accuracy: 0.7233\n",
            "Epoch 75/100\n",
            "484/484 [==============================] - 6s 11ms/step - loss: 1.5562 - accuracy: 0.7278\n",
            "Epoch 76/100\n",
            "484/484 [==============================] - 6s 11ms/step - loss: 1.5288 - accuracy: 0.7325\n",
            "Epoch 77/100\n",
            "484/484 [==============================] - 6s 12ms/step - loss: 1.5014 - accuracy: 0.7376\n",
            "Epoch 78/100\n",
            "484/484 [==============================] - 6s 12ms/step - loss: 1.4908 - accuracy: 0.7427\n",
            "Epoch 79/100\n",
            "484/484 [==============================] - 6s 11ms/step - loss: 1.4871 - accuracy: 0.7399\n",
            "Epoch 80/100\n",
            "484/484 [==============================] - 6s 12ms/step - loss: 1.4683 - accuracy: 0.7463\n",
            "Epoch 81/100\n",
            "484/484 [==============================] - 6s 11ms/step - loss: 1.4462 - accuracy: 0.7463\n",
            "Epoch 82/100\n",
            "484/484 [==============================] - 6s 11ms/step - loss: 1.4250 - accuracy: 0.7516\n",
            "Epoch 83/100\n",
            "484/484 [==============================] - 6s 11ms/step - loss: 1.4036 - accuracy: 0.7581\n",
            "Epoch 84/100\n",
            "484/484 [==============================] - 6s 11ms/step - loss: 1.3984 - accuracy: 0.7558\n",
            "Epoch 85/100\n",
            "484/484 [==============================] - 6s 11ms/step - loss: 1.3780 - accuracy: 0.7606\n",
            "Epoch 86/100\n",
            "484/484 [==============================] - 6s 11ms/step - loss: 1.3581 - accuracy: 0.7621\n",
            "Epoch 87/100\n",
            "484/484 [==============================] - 6s 11ms/step - loss: 1.3321 - accuracy: 0.7705\n",
            "Epoch 88/100\n",
            "484/484 [==============================] - 6s 12ms/step - loss: 1.3150 - accuracy: 0.7765\n",
            "Epoch 89/100\n",
            "484/484 [==============================] - 5s 11ms/step - loss: 1.3219 - accuracy: 0.7707\n",
            "Epoch 90/100\n",
            "484/484 [==============================] - 5s 11ms/step - loss: 1.3030 - accuracy: 0.7733\n",
            "Epoch 91/100\n",
            "484/484 [==============================] - 5s 11ms/step - loss: 1.2916 - accuracy: 0.7753\n",
            "Epoch 92/100\n",
            "484/484 [==============================] - 5s 11ms/step - loss: 1.2769 - accuracy: 0.7791\n",
            "Epoch 93/100\n",
            "484/484 [==============================] - 5s 11ms/step - loss: 1.2659 - accuracy: 0.7807\n",
            "Epoch 94/100\n",
            "484/484 [==============================] - 6s 11ms/step - loss: 1.2461 - accuracy: 0.7822\n",
            "Epoch 95/100\n",
            "484/484 [==============================] - 5s 11ms/step - loss: 1.2369 - accuracy: 0.7851\n",
            "Epoch 96/100\n",
            "484/484 [==============================] - 5s 11ms/step - loss: 1.2166 - accuracy: 0.7897\n",
            "Epoch 97/100\n",
            "484/484 [==============================] - 5s 11ms/step - loss: 1.2139 - accuracy: 0.7856\n",
            "Epoch 98/100\n",
            "484/484 [==============================] - 5s 11ms/step - loss: 1.2058 - accuracy: 0.7876\n",
            "Epoch 99/100\n",
            "484/484 [==============================] - 5s 11ms/step - loss: 1.1914 - accuracy: 0.7930\n",
            "Epoch 100/100\n",
            "484/484 [==============================] - 5s 11ms/step - loss: 1.1769 - accuracy: 0.7945\n"
          ],
          "name": "stdout"
        }
      ]
    },
    {
      "cell_type": "code",
      "metadata": {
        "colab_type": "code",
        "id": "1fXTEO3GJ282",
        "outputId": "c3805d31-b85c-4475-de90-b1d4d0c8008f",
        "colab": {
          "base_uri": "https://localhost:8080/",
          "height": 545
        }
      },
      "source": [
        "import matplotlib.pyplot as plt\n",
        "acc = history.history['accuracy']\n",
        "loss = history.history['loss']\n",
        "\n",
        "epochs = range(len(acc))\n",
        "\n",
        "plt.plot(epochs, acc, 'b', label='Training accuracy')\n",
        "plt.title('Training accuracy')\n",
        "\n",
        "plt.figure()\n",
        "\n",
        "plt.plot(epochs, loss, 'b', label='Training Loss')\n",
        "plt.title('Training loss')\n",
        "plt.legend()\n",
        "\n",
        "plt.show()"
      ],
      "execution_count": 0,
      "outputs": [
        {
          "output_type": "display_data",
          "data": {
            "image/png": "[encoded data removed]",
            "text/plain": [
              "<Figure size 432x288 with 1 Axes>"
            ]
          },
          "metadata": {
            "tags": []
          }
        },
        {
          "output_type": "display_data",
          "data": {
            "image/png": "[encoded data removed]",
            "text/plain": [
              "<Figure size 432x288 with 1 Axes>"
            ]
          },
          "metadata": {
            "tags": []
          }
        }
      ]
    },
    {
      "cell_type": "code",
      "metadata": {
        "colab_type": "code",
        "id": "6Vc6PHgxa6Hm",
        "outputId": "3fe6998b-682f-4bfb-aeb9-541954cc61d0",
        "colab": {
          "base_uri": "https://localhost:8080/",
          "height": 105
        }
      },
      "source": [
        "seed_text = \"Help me Obi Wan Kenobi, you're my only hope\"\n",
        "next_words = 100\n",
        "  \n",
        "for _ in range(next_words):\n",
        "\ttoken_list = tokenizer.texts_to_sequences([seed_text])[0]\n",
        "\ttoken_list = pad_sequences([token_list], maxlen=max_sequence_len-1, padding='pre')\n",
        "\tpredicted = model.predict_classes(token_list, verbose=0)\n",
        "\toutput_word = \"\"\n",
        "\tfor word, index in tokenizer.word_index.items():\n",
        "\t\tif index == predicted:\n",
        "\t\t\toutput_word = word\n",
        "\t\t\tbreak\n",
        "\tseed_text += \" \" + output_word\n",
        "print(seed_text)"
      ],
      "execution_count": 0,
      "outputs": [
        {
          "output_type": "stream",
          "text": [
            "WARNING:tensorflow:From <ipython-input-7-622d307fa19a>:7: Sequential.predict_classes (from tensorflow.python.keras.engine.sequential) is deprecated and will be removed after 2021-01-01.\n",
            "Instructions for updating:\n",
            "Please use instead:* `np.argmax(model.predict(x), axis=-1)`,   if your model does multi-class classification   (e.g. if it uses a `softmax` last-layer activation).* `(model.predict(x) > 0.5).astype(\"int32\")`,   if your model does binary classification   (e.g. if it uses a `sigmoid` last-layer activation).\n",
            "Help me Obi Wan Kenobi, you're my only hope thy sins will prove his side defence light arising beard torn light dyed brought of sense number'd hours 'tis o'er gone within your days lies writ eye still still find some skill but foes goes some near waste did stand there with his tomb thence commend happy did stand did stand know there there am for mine eye doth shouldst mine eyes but straight skill wanting pain be bright thine own grace desire too eye doth sort dyed dyed find unbred qualify had above a store 'tis rare rare dote light dote burn day rhymers worn gone bred new fired\n"
          ],
          "name": "stdout"
        }
      ]
    }
  ]
}